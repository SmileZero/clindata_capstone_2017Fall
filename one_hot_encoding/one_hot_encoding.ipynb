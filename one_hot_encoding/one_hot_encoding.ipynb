{
 "cells": [
  {
   "cell_type": "code",
   "execution_count": 13,
   "metadata": {
    "collapsed": true
   },
   "outputs": [],
   "source": [
    "import pandas as pd\n",
    "import numpy as np\n",
    "from numpy import array\n",
    "from numpy import argmax\n",
    "from sklearn.preprocessing import LabelEncoder\n",
    "from sklearn.preprocessing import OneHotEncoder"
   ]
  },
  {
   "cell_type": "code",
   "execution_count": 2,
   "metadata": {
    "collapsed": true
   },
   "outputs": [],
   "source": [
    "#read in the data\n",
    "data = pd.read_csv(\"solr_us_10k.csv\") "
   ]
  },
  {
   "cell_type": "code",
   "execution_count": 3,
   "metadata": {},
   "outputs": [
    {
     "name": "stdout",
     "output_type": "stream",
     "text": [
      "['dur' 'indications' 'lot_num' 'age_cod' 'occp_cod' 'reporter_country'\n",
      " 'auth_num' 'role_cod' 'to_mfr' 'outcomes' 'rept_dt' 'prod_ai' 'i_f_cod'\n",
      " 'age_grp' 'image' 'nda_num' 'dose_form' 'drugname' 'cum_dose_chr'\n",
      " 'primaryid' 'dechal' 'route' 'dur_cod' 'wt_cod' 'lit_ref' 'caseid'\n",
      " 'drug_seq' 'mfr_sndr' 'mfr_dt' 'rechal' 'event_dt' 'mfr_num' 'lot_nbr'\n",
      " 'dose_freq' 'e_sub' 'company' 'exp_dt' 'foll_seq' 'dose_vbm' 'wt'\n",
      " 'death_dt' 'end_dt' 'dose_amt' 'occr_country' 'caseversion' 'val_vbm'\n",
      " 'sex' 'dsg_drug_seq' 'gndr_cod' 'cum_dose_unit' 'dose_unit' 'rept_cod'\n",
      " 'reactions' 'age' 'quarter' 'i_f_code']\n"
     ]
    },
    {
     "data": {
      "text/html": [
       "<div>\n",
       "<style>\n",
       "    .dataframe thead tr:only-child th {\n",
       "        text-align: right;\n",
       "    }\n",
       "\n",
       "    .dataframe thead th {\n",
       "        text-align: left;\n",
       "    }\n",
       "\n",
       "    .dataframe tbody tr th {\n",
       "        vertical-align: top;\n",
       "    }\n",
       "</style>\n",
       "<table border=\"1\" class=\"dataframe\">\n",
       "  <thead>\n",
       "    <tr style=\"text-align: right;\">\n",
       "      <th></th>\n",
       "      <th>dur</th>\n",
       "      <th>indications</th>\n",
       "      <th>lot_num</th>\n",
       "      <th>age_cod</th>\n",
       "      <th>occp_cod</th>\n",
       "      <th>reporter_country</th>\n",
       "      <th>auth_num</th>\n",
       "      <th>role_cod</th>\n",
       "      <th>to_mfr</th>\n",
       "      <th>outcomes</th>\n",
       "      <th>...</th>\n",
       "      <th>sex</th>\n",
       "      <th>dsg_drug_seq</th>\n",
       "      <th>gndr_cod</th>\n",
       "      <th>cum_dose_unit</th>\n",
       "      <th>dose_unit</th>\n",
       "      <th>rept_cod</th>\n",
       "      <th>reactions</th>\n",
       "      <th>age</th>\n",
       "      <th>quarter</th>\n",
       "      <th>i_f_code</th>\n",
       "    </tr>\n",
       "  </thead>\n",
       "  <tbody>\n",
       "    <tr>\n",
       "      <th>0</th>\n",
       "      <td>NaN</td>\n",
       "      <td>OSTEOPOROSIS</td>\n",
       "      <td>A719441C</td>\n",
       "      <td>YR</td>\n",
       "      <td>CN</td>\n",
       "      <td>US</td>\n",
       "      <td>NaN</td>\n",
       "      <td>PS</td>\n",
       "      <td>NaN</td>\n",
       "      <td>NaN</td>\n",
       "      <td>...</td>\n",
       "      <td>F</td>\n",
       "      <td>1</td>\n",
       "      <td>NaN</td>\n",
       "      <td>NaN</td>\n",
       "      <td>UG</td>\n",
       "      <td>PER</td>\n",
       "      <td>INJECTION SITE BRUISING\\,DYSPEPSIA\\,ARTHRALGIA...</td>\n",
       "      <td>66.196</td>\n",
       "      <td>15Q4</td>\n",
       "      <td>I</td>\n",
       "    </tr>\n",
       "    <tr>\n",
       "      <th>1</th>\n",
       "      <td>NaN</td>\n",
       "      <td>OSTEOPOROSIS</td>\n",
       "      <td>A713108C</td>\n",
       "      <td>YR</td>\n",
       "      <td>CN</td>\n",
       "      <td>US</td>\n",
       "      <td>NaN</td>\n",
       "      <td>PS</td>\n",
       "      <td>NaN</td>\n",
       "      <td>NaN</td>\n",
       "      <td>...</td>\n",
       "      <td>F</td>\n",
       "      <td>1</td>\n",
       "      <td>NaN</td>\n",
       "      <td>NaN</td>\n",
       "      <td>UG</td>\n",
       "      <td>PER</td>\n",
       "      <td>MUSCLE SPASMS\\,PAIN\\,PAIN IN EXTREMITY</td>\n",
       "      <td>71.734</td>\n",
       "      <td>15Q4</td>\n",
       "      <td>I</td>\n",
       "    </tr>\n",
       "    <tr>\n",
       "      <th>2</th>\n",
       "      <td>NaN</td>\n",
       "      <td>OSTEOPOROSIS</td>\n",
       "      <td>NaN</td>\n",
       "      <td>YR</td>\n",
       "      <td>CN</td>\n",
       "      <td>US</td>\n",
       "      <td>NaN</td>\n",
       "      <td>PS</td>\n",
       "      <td>NaN</td>\n",
       "      <td>NaN</td>\n",
       "      <td>...</td>\n",
       "      <td>F</td>\n",
       "      <td>1</td>\n",
       "      <td>NaN</td>\n",
       "      <td>NaN</td>\n",
       "      <td>UG</td>\n",
       "      <td>PER</td>\n",
       "      <td>LOCAL SWELLING\\,PRURITUS\\,CONCUSSION\\,MYALGIA\\...</td>\n",
       "      <td>71.869</td>\n",
       "      <td>15Q4</td>\n",
       "      <td>I</td>\n",
       "    </tr>\n",
       "    <tr>\n",
       "      <th>3</th>\n",
       "      <td>NaN</td>\n",
       "      <td>OSTEOPOROSIS</td>\n",
       "      <td>A713108C</td>\n",
       "      <td>NaN</td>\n",
       "      <td>CN</td>\n",
       "      <td>US</td>\n",
       "      <td>NaN</td>\n",
       "      <td>PS</td>\n",
       "      <td>NaN</td>\n",
       "      <td>NaN</td>\n",
       "      <td>...</td>\n",
       "      <td>F</td>\n",
       "      <td>1</td>\n",
       "      <td>NaN</td>\n",
       "      <td>NaN</td>\n",
       "      <td>UG</td>\n",
       "      <td>PER</td>\n",
       "      <td>INJECTION SITE RASH</td>\n",
       "      <td>NaN</td>\n",
       "      <td>15Q4</td>\n",
       "      <td>I</td>\n",
       "    </tr>\n",
       "    <tr>\n",
       "      <th>4</th>\n",
       "      <td>NaN</td>\n",
       "      <td>PRODUCT USED FOR UNKNOWN INDICATION</td>\n",
       "      <td>NaN</td>\n",
       "      <td>NaN</td>\n",
       "      <td>CN</td>\n",
       "      <td>US</td>\n",
       "      <td>NaN</td>\n",
       "      <td>PS</td>\n",
       "      <td>NaN</td>\n",
       "      <td>NaN</td>\n",
       "      <td>...</td>\n",
       "      <td>F</td>\n",
       "      <td>1</td>\n",
       "      <td>NaN</td>\n",
       "      <td>NaN</td>\n",
       "      <td>MG</td>\n",
       "      <td>PER</td>\n",
       "      <td>TIC</td>\n",
       "      <td>NaN</td>\n",
       "      <td>15Q4</td>\n",
       "      <td>I</td>\n",
       "    </tr>\n",
       "  </tbody>\n",
       "</table>\n",
       "<p>5 rows × 56 columns</p>\n",
       "</div>"
      ],
      "text/plain": [
       "   dur                          indications    lot_num age_cod occp_cod  \\\n",
       "0  NaN                         OSTEOPOROSIS   A719441C      YR       CN   \n",
       "1  NaN                         OSTEOPOROSIS   A713108C      YR       CN   \n",
       "2  NaN                         OSTEOPOROSIS        NaN      YR       CN   \n",
       "3  NaN                         OSTEOPOROSIS   A713108C     NaN       CN   \n",
       "4  NaN  PRODUCT USED FOR UNKNOWN INDICATION        NaN     NaN       CN   \n",
       "\n",
       "  reporter_country auth_num role_cod  to_mfr outcomes   ...     sex  \\\n",
       "0               US      NaN       PS     NaN      NaN   ...       F   \n",
       "1               US      NaN       PS     NaN      NaN   ...       F   \n",
       "2               US      NaN       PS     NaN      NaN   ...       F   \n",
       "3               US      NaN       PS     NaN      NaN   ...       F   \n",
       "4               US      NaN       PS     NaN      NaN   ...       F   \n",
       "\n",
       "  dsg_drug_seq  gndr_cod cum_dose_unit  dose_unit  rept_cod  \\\n",
       "0            1       NaN           NaN         UG       PER   \n",
       "1            1       NaN           NaN         UG       PER   \n",
       "2            1       NaN           NaN         UG       PER   \n",
       "3            1       NaN           NaN         UG       PER   \n",
       "4            1       NaN           NaN         MG       PER   \n",
       "\n",
       "                                           reactions     age  quarter i_f_code  \n",
       "0  INJECTION SITE BRUISING\\,DYSPEPSIA\\,ARTHRALGIA...  66.196     15Q4        I  \n",
       "1             MUSCLE SPASMS\\,PAIN\\,PAIN IN EXTREMITY  71.734     15Q4        I  \n",
       "2  LOCAL SWELLING\\,PRURITUS\\,CONCUSSION\\,MYALGIA\\...  71.869     15Q4        I  \n",
       "3                                INJECTION SITE RASH     NaN     15Q4        I  \n",
       "4                                                TIC     NaN     15Q4        I  \n",
       "\n",
       "[5 rows x 56 columns]"
      ]
     },
     "execution_count": 3,
     "metadata": {},
     "output_type": "execute_result"
    }
   ],
   "source": [
    "#get a hint of how data looks\n",
    "col_names = data.columns.values \n",
    "print col_names\n",
    "#print data.describe()\n",
    "data.head()"
   ]
  },
  {
   "cell_type": "code",
   "execution_count": 4,
   "metadata": {
    "collapsed": true
   },
   "outputs": [],
   "source": [
    "#get the column that needs to be encoded\n",
    "gender = data['sex']\n",
    "reactions = data['reactions']\n",
    "indications = data['indications']"
   ]
  },
  {
   "cell_type": "code",
   "execution_count": 5,
   "metadata": {
    "collapsed": true
   },
   "outputs": [],
   "source": [
    "def hot_pot_encoding(values):\n",
    "    # integer encode\n",
    "    label_encoder = LabelEncoder()\n",
    "    integer_encoded = label_encoder.fit_transform(values)\n",
    "    print(integer_encoded)\n",
    "    # binary encode\n",
    "    onehot_encoder = OneHotEncoder(sparse=False)\n",
    "    integer_encoded = integer_encoded.reshape(len(integer_encoded), 1)\n",
    "    onehot_encoded = onehot_encoder.fit_transform(integer_encoded)\n",
    "    print(onehot_encoded)\n",
    "    return label_encoder,onehot_encoded\n",
    "\n",
    "def reverse_encoding(label_encoder,onehot_encoded):\n",
    "    # invert first example\n",
    "    #inverted = label_encoder.inverse_transform([argmax(onehot_encoded[0, :])])\n",
    "    inverted = label_encoder.inverse_transform([argmax(onehot_encoded)])\n",
    "    print(inverted)\n",
    "    return inverted"
   ]
  },
  {
   "cell_type": "code",
   "execution_count": 6,
   "metadata": {},
   "outputs": [
    {
     "name": "stdout",
     "output_type": "stream",
     "text": [
      "['F' 'F' 'F' ..., 'F' 'F' 'F']\n",
      "[1 1 1 ..., 1 1 1]\n",
      "[[ 0.  1.  0.]\n",
      " [ 0.  1.  0.]\n",
      " [ 0.  1.  0.]\n",
      " ..., \n",
      " [ 0.  1.  0.]\n",
      " [ 0.  1.  0.]\n",
      " [ 0.  1.  0.]]\n",
      "[ 'INJECTION SITE BRUISING\\\\,DYSPEPSIA\\\\,ARTHRALGIA\\\\,INJECTION SITE ERYTHEMA\\\\,SKIN IRRITATION\\\\,INJECTION SITE PRURITUS\\\\,PAIN\\\\,HEADACHE'\n",
      " 'MUSCLE SPASMS\\\\,PAIN\\\\,PAIN IN EXTREMITY'\n",
      " 'LOCAL SWELLING\\\\,PRURITUS\\\\,CONCUSSION\\\\,MYALGIA\\\\,FALL\\\\,PAIN\\\\,INJECTION SITE ERYTHEMA\\\\,CONTUSION'\n",
      " ...,\n",
      " 'CEREBROVASCULAR ACCIDENT\\\\,NECK PAIN\\\\,ANXIETY\\\\,HEMIPARESIS\\\\,MIGRAINE\\\\,ARTHRALGIA\\\\,BACK PAIN\\\\,MENTAL DISORDER\\\\,COGNITIVE DISORDER\\\\,DEPRESSION\\\\,HEADACHE'\n",
      " 'CEREBROVASCULAR ACCIDENT\\\\,EMBOLISM ARTERIAL'\n",
      " 'GASTROOESOPHAGEAL REFLUX DISEASE\\\\,WEIGHT DECREASED\\\\,CARDIAC VALVE DISEASE\\\\,BLOOD GLUCOSE INCREASED\\\\,HYPOACUSIS\\\\,FEELING ABNORMAL\\\\,NASOPHARYNGITIS\\\\,EAR INFECTION\\\\,CHEST PAIN\\\\,DIABETES MELLITUS\\\\,DIZZINESS\\\\,DRUG DOSE OMISSION']\n",
      "[2373 3186 2873 ...,  881  867 1830]\n",
      "[[ 0.  0.  0. ...,  0.  0.  0.]\n",
      " [ 0.  0.  0. ...,  0.  0.  0.]\n",
      " [ 0.  0.  0. ...,  0.  0.  0.]\n",
      " ..., \n",
      " [ 0.  0.  0. ...,  0.  0.  0.]\n",
      " [ 0.  0.  0. ...,  0.  0.  0.]\n",
      " [ 0.  0.  0. ...,  0.  0.  0.]]\n",
      "['OSTEOPOROSIS' 'OSTEOPOROSIS' 'OSTEOPOROSIS' ..., nan\n",
      " 'PRODUCT USED FOR UNKNOWN INDICATION' 'GASTROOESOPHAGEAL REFLUX DISEASE']\n",
      "[383 383 383 ...,   0 427 206]\n",
      "[[ 0.  0.  0. ...,  0.  0.  0.]\n",
      " [ 0.  0.  0. ...,  0.  0.  0.]\n",
      " [ 0.  0.  0. ...,  0.  0.  0.]\n",
      " ..., \n",
      " [ 1.  0.  0. ...,  0.  0.  0.]\n",
      " [ 0.  0.  0. ...,  0.  0.  0.]\n",
      " [ 0.  0.  0. ...,  0.  0.  0.]]\n"
     ]
    },
    {
     "name": "stderr",
     "output_type": "stream",
     "text": [
      "/Users/Smiling/anaconda/lib/python2.7/site-packages/numpy/lib/arraysetops.py:216: FutureWarning: numpy not_equal will not check object identity in the future. The comparison did not return the same result as suggested by the identity (`is`)) and will change.\n",
      "  flag = np.concatenate(([True], aux[1:] != aux[:-1]))\n"
     ]
    }
   ],
   "source": [
    "#gender hotpot encoding\n",
    "gender_values = array(gender)\n",
    "print(gender_values)\n",
    "gender_label_encoder,gender_onehot_encoded = hot_pot_encoding(gender_values)\n",
    "#gender_inverted = reverse_encoding(gender_label_encoder,gender_onehot_encoded)\n",
    "\n",
    "#reaction hotpot encoding\n",
    "reactions_values = array(reactions)\n",
    "print(reactions_values)\n",
    "reactions_label_encoder,reactions_onehot_encoded = hot_pot_encoding(reactions_values)\n",
    "#reactions_inverted = reverse_encoding(reactions_label_encoder,reactions_onehot_encoded)\n",
    "\n",
    "#reaction hotpot encoding\n",
    "indications_values = array(indications)\n",
    "print(indications_values)\n",
    "indications_label_encoder,indications_onehot_encoded = hot_pot_encoding(indications_values)\n",
    "#indications_inverted = reverse_encoding(indications_label_encoder,indications_onehot_encoded)"
   ]
  },
  {
   "cell_type": "code",
   "execution_count": 10,
   "metadata": {},
   "outputs": [
    {
     "data": {
      "text/plain": [
       "[['INJECTION SITE BRUISING',\n",
       "  'DYSPEPSIA',\n",
       "  'ARTHRALGIA',\n",
       "  'INJECTION SITE ERYTHEMA',\n",
       "  'SKIN IRRITATION',\n",
       "  'INJECTION SITE PRURITUS',\n",
       "  'PAIN',\n",
       "  'HEADACHE'],\n",
       " ['MUSCLE SPASMS', 'PAIN', 'PAIN IN EXTREMITY']]"
      ]
     },
     "execution_count": 10,
     "metadata": {},
     "output_type": "execute_result"
    }
   ],
   "source": [
    "def split_coma(s):\n",
    "    return s.split('\\\\,')\n",
    "reactions_splited = map(split_coma, reactions)\n",
    "reactions_splited[:2]"
   ]
  },
  {
   "cell_type": "code",
   "execution_count": 28,
   "metadata": {},
   "outputs": [],
   "source": [
    "reaction_flat_list = [item for sublist in reactions_splited for item in sublist]\n",
    "#reactions_flat = np.asarray(reactions_splited).flatten('F')\n",
    "#print reaction_flat_list\n",
    "reaction_set = set(reaction_flat_list)\n",
    "distinct_reaction = list(reaction_set)"
   ]
  },
  {
   "cell_type": "code",
   "execution_count": 29,
   "metadata": {},
   "outputs": [
    {
     "name": "stdout",
     "output_type": "stream",
     "text": [
      "2340\n"
     ]
    }
   ],
   "source": [
    "print len(distinct_reaction)"
   ]
  },
  {
   "cell_type": "code",
   "execution_count": 33,
   "metadata": {
    "collapsed": true
   },
   "outputs": [],
   "source": [
    "def one_hot_encoding(data, distinct_val):\n",
    "    encoding_list = []\n",
    "    for line in data:\n",
    "        line_list = [0 for i in xrange(len(distinct_val))]\n",
    "        for item in line:\n",
    "            idx = distinct_val.index(item)\n",
    "            line_list[idx] = 1\n",
    "        encoding_list.append(line_list)\n",
    "    return encoding_list"
   ]
  },
  {
   "cell_type": "code",
   "execution_count": 31,
   "metadata": {
    "collapsed": true
   },
   "outputs": [],
   "source": [
    "def get_distinct_value(splited_list):\n",
    "    flat_list = [item for sublist in splited_list for item in sublist]\n",
    "    flat_set = set(flat_list)\n",
    "    return list(flat_set)"
   ]
  },
  {
   "cell_type": "code",
   "execution_count": 37,
   "metadata": {},
   "outputs": [
    {
     "name": "stdout",
     "output_type": "stream",
     "text": [
      "['INJECTION SITE BRUISING', 'DYSPEPSIA', 'INJECTION SITE ERYTHEMA', 'SKIN IRRITATION', 'MYALGIA', 'FALL', 'PAIN', 'NAUSEA', 'ARTHRALGIA', 'CONCUSSION', 'BLOOD ALKALINE PHOSPHATASE INCREASED', 'PAIN IN JAW', 'FATIGUE', 'TIC', 'CONTUSION', 'JOINT SWELLING', 'MUSCLE SPASMS', 'LOCAL SWELLING', 'PRURITUS', 'MALAISE', 'PAIN IN EXTREMITY', 'INJECTION SITE PRURITUS', 'INJECTION SITE RASH', 'HEADACHE']\n"
     ]
    },
    {
     "data": {
      "text/plain": [
       "[[1, 1, 1, 1, 0, 0, 1, 0, 1, 0, 0, 0, 0, 0, 0, 0, 0, 0, 0, 0, 0, 1, 0, 1],\n",
       " [0, 0, 0, 0, 0, 0, 1, 0, 0, 0, 0, 0, 0, 0, 0, 0, 1, 0, 0, 0, 1, 0, 0, 0],\n",
       " [0, 0, 1, 0, 1, 1, 1, 0, 0, 1, 0, 0, 0, 0, 1, 0, 0, 1, 1, 0, 0, 0, 0, 0],\n",
       " [0, 0, 0, 0, 0, 0, 0, 0, 0, 0, 0, 0, 0, 0, 0, 0, 0, 0, 0, 0, 0, 0, 1, 0],\n",
       " [0, 0, 0, 0, 0, 0, 0, 0, 0, 0, 0, 0, 0, 1, 0, 0, 0, 0, 0, 0, 0, 0, 0, 0],\n",
       " [0, 0, 0, 0, 0, 0, 0, 0, 0, 0, 0, 0, 1, 0, 0, 0, 0, 0, 0, 0, 0, 0, 0, 0],\n",
       " [0, 0, 0, 0, 0, 0, 0, 0, 0, 0, 0, 0, 0, 0, 0, 1, 0, 0, 0, 0, 0, 0, 0, 0],\n",
       " [0, 0, 0, 0, 0, 0, 0, 0, 0, 0, 0, 0, 0, 0, 0, 1, 0, 0, 0, 0, 0, 0, 0, 0],\n",
       " [0, 0, 0, 0, 0, 0, 0, 1, 0, 0, 0, 0, 0, 0, 0, 0, 0, 0, 0, 1, 0, 0, 0, 0],\n",
       " [0, 0, 0, 0, 0, 0, 0, 0, 0, 0, 1, 1, 0, 0, 0, 0, 0, 0, 0, 0, 0, 0, 0, 0]]"
      ]
     },
     "execution_count": 37,
     "metadata": {},
     "output_type": "execute_result"
    }
   ],
   "source": [
    "test_reaction_split = reactions_splited[:10]\n",
    "test_distinct_reactions = get_distinct_value(test_reaction_split)\n",
    "print test_distinct_reactions\n",
    "test_encoding_list = one_hot_encoding(test_reaction_split, test_distinct_reactions)\n",
    "test_encoding_list"
   ]
  },
  {
   "cell_type": "code",
   "execution_count": 38,
   "metadata": {},
   "outputs": [
    {
     "data": {
      "text/plain": [
       "[['INJECTION SITE BRUISING',\n",
       "  'DYSPEPSIA',\n",
       "  'ARTHRALGIA',\n",
       "  'INJECTION SITE ERYTHEMA',\n",
       "  'SKIN IRRITATION',\n",
       "  'INJECTION SITE PRURITUS',\n",
       "  'PAIN',\n",
       "  'HEADACHE'],\n",
       " ['MUSCLE SPASMS', 'PAIN', 'PAIN IN EXTREMITY'],\n",
       " ['LOCAL SWELLING',\n",
       "  'PRURITUS',\n",
       "  'CONCUSSION',\n",
       "  'MYALGIA',\n",
       "  'FALL',\n",
       "  'PAIN',\n",
       "  'INJECTION SITE ERYTHEMA',\n",
       "  'CONTUSION'],\n",
       " ['INJECTION SITE RASH'],\n",
       " ['TIC'],\n",
       " ['FATIGUE'],\n",
       " ['JOINT SWELLING'],\n",
       " ['JOINT SWELLING'],\n",
       " ['MALAISE', 'NAUSEA'],\n",
       " ['PAIN IN JAW', 'BLOOD ALKALINE PHOSPHATASE INCREASED']]"
      ]
     },
     "execution_count": 38,
     "metadata": {},
     "output_type": "execute_result"
    }
   ],
   "source": [
    "test_reaction_split"
   ]
  },
  {
   "cell_type": "code",
   "execution_count": null,
   "metadata": {
    "collapsed": true
   },
   "outputs": [],
   "source": []
  }
 ],
 "metadata": {
  "kernelspec": {
   "display_name": "Python 2",
   "language": "python",
   "name": "python2"
  },
  "language_info": {
   "codemirror_mode": {
    "name": "ipython",
    "version": 2
   },
   "file_extension": ".py",
   "mimetype": "text/x-python",
   "name": "python",
   "nbconvert_exporter": "python",
   "pygments_lexer": "ipython2",
   "version": "2.7.13"
  }
 },
 "nbformat": 4,
 "nbformat_minor": 2
}
