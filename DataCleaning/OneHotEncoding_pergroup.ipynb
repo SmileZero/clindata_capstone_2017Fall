{
 "cells": [
  {
   "cell_type": "code",
   "execution_count": 15,
   "metadata": {
    "collapsed": true
   },
   "outputs": [],
   "source": [
    "import pandas as pd\n",
    "from sklearn.preprocessing import OneHotEncoder, LabelEncoder\n",
    "import numpy as np\n",
    "import pickle"
   ]
  },
  {
   "cell_type": "code",
   "execution_count": 3,
   "metadata": {
    "collapsed": false
   },
   "outputs": [
    {
     "data": {
      "text/html": [
       "<div>\n",
       "<table border=\"1\" class=\"dataframe\">\n",
       "  <thead>\n",
       "    <tr style=\"text-align: right;\">\n",
       "      <th></th>\n",
       "      <th>Unnamed: 0</th>\n",
       "      <th>caseid</th>\n",
       "      <th>drug_seq</th>\n",
       "      <th>RxCUI</th>\n",
       "      <th>indications</th>\n",
       "      <th>role_cod</th>\n",
       "      <th>sex</th>\n",
       "      <th>age</th>\n",
       "      <th>age_grp</th>\n",
       "      <th>wt</th>\n",
       "      <th>dechal</th>\n",
       "      <th>rechal</th>\n",
       "      <th>reactions</th>\n",
       "    </tr>\n",
       "  </thead>\n",
       "  <tbody>\n",
       "    <tr>\n",
       "      <th>0</th>\n",
       "      <td>0</td>\n",
       "      <td>11676768</td>\n",
       "      <td>1</td>\n",
       "      <td>32915</td>\n",
       "      <td>OSTEOPOROSIS</td>\n",
       "      <td>PS</td>\n",
       "      <td>F</td>\n",
       "      <td>66.196</td>\n",
       "      <td>NaN</td>\n",
       "      <td>NaN</td>\n",
       "      <td>NaN</td>\n",
       "      <td>NaN</td>\n",
       "      <td>INJECTION SITE BRUISING\\,DYSPEPSIA\\,ARTHRALGIA...</td>\n",
       "    </tr>\n",
       "    <tr>\n",
       "      <th>1</th>\n",
       "      <td>1</td>\n",
       "      <td>11676769</td>\n",
       "      <td>1</td>\n",
       "      <td>32915</td>\n",
       "      <td>OSTEOPOROSIS</td>\n",
       "      <td>PS</td>\n",
       "      <td>F</td>\n",
       "      <td>71.734</td>\n",
       "      <td>NaN</td>\n",
       "      <td>NaN</td>\n",
       "      <td>NaN</td>\n",
       "      <td>NaN</td>\n",
       "      <td>MUSCLE SPASMS\\,PAIN\\,PAIN IN EXTREMITY</td>\n",
       "    </tr>\n",
       "    <tr>\n",
       "      <th>2</th>\n",
       "      <td>2</td>\n",
       "      <td>11676770</td>\n",
       "      <td>1</td>\n",
       "      <td>32915</td>\n",
       "      <td>OSTEOPOROSIS</td>\n",
       "      <td>PS</td>\n",
       "      <td>F</td>\n",
       "      <td>71.869</td>\n",
       "      <td>NaN</td>\n",
       "      <td>NaN</td>\n",
       "      <td>NaN</td>\n",
       "      <td>U</td>\n",
       "      <td>LOCAL SWELLING\\,PRURITUS\\,CONCUSSION\\,MYALGIA\\...</td>\n",
       "    </tr>\n",
       "    <tr>\n",
       "      <th>3</th>\n",
       "      <td>3</td>\n",
       "      <td>11676774</td>\n",
       "      <td>1</td>\n",
       "      <td>32915</td>\n",
       "      <td>OSTEOPOROSIS</td>\n",
       "      <td>PS</td>\n",
       "      <td>F</td>\n",
       "      <td>NaN</td>\n",
       "      <td>NaN</td>\n",
       "      <td>NaN</td>\n",
       "      <td>NaN</td>\n",
       "      <td>U</td>\n",
       "      <td>INJECTION SITE RASH</td>\n",
       "    </tr>\n",
       "    <tr>\n",
       "      <th>4</th>\n",
       "      <td>4</td>\n",
       "      <td>11676777</td>\n",
       "      <td>1</td>\n",
       "      <td>312078</td>\n",
       "      <td>PRODUCT USED FOR UNKNOWN INDICATION</td>\n",
       "      <td>PS</td>\n",
       "      <td>F</td>\n",
       "      <td>NaN</td>\n",
       "      <td>NaN</td>\n",
       "      <td>NaN</td>\n",
       "      <td>NaN</td>\n",
       "      <td>NaN</td>\n",
       "      <td>TIC</td>\n",
       "    </tr>\n",
       "  </tbody>\n",
       "</table>\n",
       "</div>"
      ],
      "text/plain": [
       "   Unnamed: 0    caseid  drug_seq   RxCUI  \\\n",
       "0           0  11676768         1   32915   \n",
       "1           1  11676769         1   32915   \n",
       "2           2  11676770         1   32915   \n",
       "3           3  11676774         1   32915   \n",
       "4           4  11676777         1  312078   \n",
       "\n",
       "                           indications role_cod sex     age age_grp  wt  \\\n",
       "0                         OSTEOPOROSIS       PS   F  66.196     NaN NaN   \n",
       "1                         OSTEOPOROSIS       PS   F  71.734     NaN NaN   \n",
       "2                         OSTEOPOROSIS       PS   F  71.869     NaN NaN   \n",
       "3                         OSTEOPOROSIS       PS   F     NaN     NaN NaN   \n",
       "4  PRODUCT USED FOR UNKNOWN INDICATION       PS   F     NaN     NaN NaN   \n",
       "\n",
       "  dechal rechal                                          reactions  \n",
       "0    NaN    NaN  INJECTION SITE BRUISING\\,DYSPEPSIA\\,ARTHRALGIA...  \n",
       "1    NaN    NaN             MUSCLE SPASMS\\,PAIN\\,PAIN IN EXTREMITY  \n",
       "2    NaN      U  LOCAL SWELLING\\,PRURITUS\\,CONCUSSION\\,MYALGIA\\...  \n",
       "3    NaN      U                                INJECTION SITE RASH  \n",
       "4    NaN    NaN                                                TIC  "
      ]
     },
     "execution_count": 3,
     "metadata": {},
     "output_type": "execute_result"
    }
   ],
   "source": [
    "#Read Data\n",
    "data = pd.read_csv(\"FAERS_columnSubset.csv\")\n",
    "data.head()"
   ]
  },
  {
   "cell_type": "code",
   "execution_count": 4,
   "metadata": {
    "collapsed": false
   },
   "outputs": [],
   "source": [
    "#Select categorical and numerical columns\n",
    "categorical_columns = ['RxCUI', 'indications', 'role_cod', 'sex', 'age_grp', \n",
    "                       'dechal', 'rechal']\n",
    "numerical_columns = ['age', 'wt']"
   ]
  },
  {
   "cell_type": "code",
   "execution_count": 5,
   "metadata": {
    "collapsed": false
   },
   "outputs": [],
   "source": [
    "#Find the unique values for the categorical\n",
    "unique_dict_categorical = {}\n",
    "\n",
    "for column in categorical_columns:\n",
    "    unique_dict_categorical[column] = data[column].unique()"
   ]
  },
  {
   "cell_type": "code",
   "execution_count": 18,
   "metadata": {
    "collapsed": false
   },
   "outputs": [],
   "source": [
    "#Save in pickle file\n",
    "file = open(\"unique_categorical_dict.pkl\", \"wb\")\n",
    "pickle.dump(unique_dict_categorical, file)\n",
    "file.close()"
   ]
  },
  {
   "cell_type": "code",
   "execution_count": 35,
   "metadata": {
    "collapsed": true
   },
   "outputs": [],
   "source": [
    "#Create function to convert to dummy variables\n",
    "def convert_to_dummies(data, categorical_columns, unique_dictionary):\n",
    "    #Assign the categories for each column\n",
    "    for column in categorical_columns:\n",
    "        data[column] = data[column].astype('category', categories=unique_dictionary[column])\n",
    "    #Convert to categorical\n",
    "    dummy = pd.get_dummies(data, columns=categorical_columns)\n",
    "    return dummy"
   ]
  },
  {
   "cell_type": "code",
   "execution_count": 38,
   "metadata": {
    "collapsed": false
   },
   "outputs": [
    {
     "data": {
      "text/plain": [
       "(100, 9325)"
      ]
     },
     "execution_count": 38,
     "metadata": {},
     "output_type": "execute_result"
    }
   ],
   "source": [
    "#Create subset to test\n",
    "data_subset = data.ix[np.random.randint(len(data), size = 100)]\n",
    "\n",
    "#Convert to dummy\n",
    "dummy = convert_to_dummies(data_subset, categorical_columns, unique_dict_categorical)\n",
    "\n",
    "#check that columns were added\n",
    "dummy.shape"
   ]
  },
  {
   "cell_type": "markdown",
   "metadata": {},
   "source": [
    "## Code to convert to dummy a specific group"
   ]
  },
  {
   "cell_type": "code",
   "execution_count": 39,
   "metadata": {
    "collapsed": true
   },
   "outputs": [],
   "source": [
    "categorical_columns = ['RxCUI', 'indications', 'role_cod', 'sex', 'age_grp', \n",
    "                       'dechal', 'rechal']\n",
    "\n",
    "#Read unique dictionary\n",
    "file = open(\"unique_categorical_dict.pkl\", \"r\")\n",
    "unique_categorical_dict = pickle.load(file)\n",
    "file.close()"
   ]
  },
  {
   "cell_type": "code",
   "execution_count": 40,
   "metadata": {
    "collapsed": true
   },
   "outputs": [],
   "source": [
    "group10 = pd.read_csv(\"~/Downloads/FAERS_columnSubset_Group_10.csv\")"
   ]
  },
  {
   "cell_type": "code",
   "execution_count": 41,
   "metadata": {
    "collapsed": false
   },
   "outputs": [
    {
     "data": {
      "text/plain": [
       "(30290, 9326)"
      ]
     },
     "execution_count": 41,
     "metadata": {},
     "output_type": "execute_result"
    }
   ],
   "source": [
    "group10_dummy = convert_to_dummies(group10, categorical_columns, unique_categorical_dict)\n",
    "group10_dummy.shape"
   ]
  },
  {
   "cell_type": "code",
   "execution_count": null,
   "metadata": {
    "collapsed": true
   },
   "outputs": [],
   "source": []
  }
 ],
 "metadata": {
  "anaconda-cloud": {},
  "kernelspec": {
   "display_name": "Python [default]",
   "language": "python",
   "name": "python2"
  },
  "language_info": {
   "codemirror_mode": {
    "name": "ipython",
    "version": 2
   },
   "file_extension": ".py",
   "mimetype": "text/x-python",
   "name": "python",
   "nbconvert_exporter": "python",
   "pygments_lexer": "ipython2",
   "version": "2.7.12"
  }
 },
 "nbformat": 4,
 "nbformat_minor": 1
}
