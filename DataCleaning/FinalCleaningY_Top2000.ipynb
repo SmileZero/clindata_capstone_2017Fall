{
 "cells": [
  {
   "cell_type": "code",
   "execution_count": 1,
   "metadata": {
    "collapsed": true
   },
   "outputs": [],
   "source": [
    "import pandas as pd\n",
    "import pickle\n",
    "from sklearn.preprocessing import MultiLabelBinarizer\n",
    "import numpy as np\n",
    "import matplotlib.pyplot as plt"
   ]
  },
  {
   "cell_type": "code",
   "execution_count": 2,
   "metadata": {
    "collapsed": false
   },
   "outputs": [
    {
     "data": {
      "text/html": [
       "<div>\n",
       "<table border=\"1\" class=\"dataframe\">\n",
       "  <thead>\n",
       "    <tr style=\"text-align: right;\">\n",
       "      <th></th>\n",
       "      <th>Unnamed: 0</th>\n",
       "      <th>Reaction</th>\n",
       "    </tr>\n",
       "  </thead>\n",
       "  <tbody>\n",
       "    <tr>\n",
       "      <th>0</th>\n",
       "      <td>0</td>\n",
       "      <td>NAUSEA</td>\n",
       "    </tr>\n",
       "    <tr>\n",
       "      <th>1</th>\n",
       "      <td>1</td>\n",
       "      <td>DRUG INEFFECTIVE</td>\n",
       "    </tr>\n",
       "    <tr>\n",
       "      <th>2</th>\n",
       "      <td>2</td>\n",
       "      <td>FATIGUE</td>\n",
       "    </tr>\n",
       "    <tr>\n",
       "      <th>3</th>\n",
       "      <td>3</td>\n",
       "      <td>DIARRHOEA</td>\n",
       "    </tr>\n",
       "    <tr>\n",
       "      <th>4</th>\n",
       "      <td>4</td>\n",
       "      <td>HEADACHE</td>\n",
       "    </tr>\n",
       "  </tbody>\n",
       "</table>\n",
       "</div>"
      ],
      "text/plain": [
       "   Unnamed: 0          Reaction\n",
       "0           0            NAUSEA\n",
       "1           1  DRUG INEFFECTIVE\n",
       "2           2           FATIGUE\n",
       "3           3         DIARRHOEA\n",
       "4           4          HEADACHE"
      ]
     },
     "execution_count": 2,
     "metadata": {},
     "output_type": "execute_result"
    }
   ],
   "source": [
    "#Read top reaction file\n",
    "top2000Reactions = pd.read_csv(\"Top2000Reactions.csv\")\n",
    "top2000Reactions.head()"
   ]
  },
  {
   "cell_type": "code",
   "execution_count": 3,
   "metadata": {
    "collapsed": false
   },
   "outputs": [
    {
     "data": {
      "text/html": [
       "<div>\n",
       "<table border=\"1\" class=\"dataframe\">\n",
       "  <thead>\n",
       "    <tr style=\"text-align: right;\">\n",
       "      <th></th>\n",
       "      <th>reaction</th>\n",
       "    </tr>\n",
       "  </thead>\n",
       "  <tbody>\n",
       "    <tr>\n",
       "      <th>0</th>\n",
       "      <td>[INJECTION SITE BRUISING, DYSPEPSIA, ARTHRALGI...</td>\n",
       "    </tr>\n",
       "    <tr>\n",
       "      <th>1</th>\n",
       "      <td>[MUSCLE SPASMS, PAIN, PAIN IN EXTREMITY]</td>\n",
       "    </tr>\n",
       "    <tr>\n",
       "      <th>2</th>\n",
       "      <td>[LOCAL SWELLING, PRURITUS, CONCUSSION, MYALGIA...</td>\n",
       "    </tr>\n",
       "    <tr>\n",
       "      <th>3</th>\n",
       "      <td>[INJECTION SITE RASH]</td>\n",
       "    </tr>\n",
       "    <tr>\n",
       "      <th>4</th>\n",
       "      <td>[TIC]</td>\n",
       "    </tr>\n",
       "  </tbody>\n",
       "</table>\n",
       "</div>"
      ],
      "text/plain": [
       "                                            reaction\n",
       "0  [INJECTION SITE BRUISING, DYSPEPSIA, ARTHRALGI...\n",
       "1           [MUSCLE SPASMS, PAIN, PAIN IN EXTREMITY]\n",
       "2  [LOCAL SWELLING, PRURITUS, CONCUSSION, MYALGIA...\n",
       "3                              [INJECTION SITE RASH]\n",
       "4                                              [TIC]"
      ]
     },
     "execution_count": 3,
     "metadata": {},
     "output_type": "execute_result"
    }
   ],
   "source": [
    "#Load reactions file\n",
    "file = open('FAERS_Y.pkl', 'r')\n",
    "y = pickle.load(file)\n",
    "file.close()\n",
    "y.head()\n",
    "\n",
    "def split_coma(s):\n",
    "    spl = s.split('\\\\,')\n",
    "    return map(lambda x: x.lstrip(' 0123456789-_').upper(), spl)\n",
    "\n",
    "reactions_df = pd.DataFrame()\n",
    "\n",
    "reactions_df['reaction'] = map(split_coma, y)\n",
    "\n",
    "reactions_df.head()"
   ]
  },
  {
   "cell_type": "code",
   "execution_count": 4,
   "metadata": {
    "collapsed": false
   },
   "outputs": [
    {
     "data": {
      "text/html": [
       "<div>\n",
       "<table border=\"1\" class=\"dataframe\">\n",
       "  <thead>\n",
       "    <tr style=\"text-align: right;\">\n",
       "      <th></th>\n",
       "      <th>reaction</th>\n",
       "    </tr>\n",
       "  </thead>\n",
       "  <tbody>\n",
       "    <tr>\n",
       "      <th>0</th>\n",
       "      <td>[INJECTION SITE BRUISING, DYSPEPSIA, ARTHRALGI...</td>\n",
       "    </tr>\n",
       "    <tr>\n",
       "      <th>1</th>\n",
       "      <td>[MUSCLE SPASMS, PAIN, PAIN IN EXTREMITY]</td>\n",
       "    </tr>\n",
       "    <tr>\n",
       "      <th>2</th>\n",
       "      <td>[PAIN, PRURITUS, CONCUSSION, MYALGIA, FALL, LO...</td>\n",
       "    </tr>\n",
       "    <tr>\n",
       "      <th>3</th>\n",
       "      <td>[INJECTION SITE RASH]</td>\n",
       "    </tr>\n",
       "    <tr>\n",
       "      <th>4</th>\n",
       "      <td>[TIC]</td>\n",
       "    </tr>\n",
       "  </tbody>\n",
       "</table>\n",
       "</div>"
      ],
      "text/plain": [
       "                                            reaction\n",
       "0  [INJECTION SITE BRUISING, DYSPEPSIA, ARTHRALGI...\n",
       "1           [MUSCLE SPASMS, PAIN, PAIN IN EXTREMITY]\n",
       "2  [PAIN, PRURITUS, CONCUSSION, MYALGIA, FALL, LO...\n",
       "3                              [INJECTION SITE RASH]\n",
       "4                                              [TIC]"
      ]
     },
     "execution_count": 4,
     "metadata": {},
     "output_type": "execute_result"
    }
   ],
   "source": [
    "#transform to set\n",
    "reactions_set = set(top2000Reactions.Reaction)\n",
    "\n",
    "#Remove the reactions that are not in the set of 2000\n",
    "def reaction_intersection(reaction_list):\n",
    "    return list(reactions_set.intersection(reaction_list))\n",
    "\n",
    "y2000 = pd.DataFrame()\n",
    "\n",
    "y2000['reaction'] = map(reaction_intersection, reactions_df.reaction)\n",
    "\n",
    "y2000.head()\n"
   ]
  },
  {
   "cell_type": "code",
   "execution_count": 5,
   "metadata": {
    "collapsed": false
   },
   "outputs": [
    {
     "data": {
      "text/plain": [
       "(1825951, 2000)"
      ]
     },
     "execution_count": 5,
     "metadata": {},
     "output_type": "execute_result"
    }
   ],
   "source": [
    "#Create One Hot Encoding\n",
    "mlb2000 = MultiLabelBinarizer(sparse_output=True)\n",
    "y2000_mlb = mlb2000.fit_transform(y2000['reaction'])\n",
    "\n",
    "#Check shape to see that the output has 2000 columns\n",
    "y2000_mlb.shape"
   ]
  },
  {
   "cell_type": "code",
   "execution_count": null,
   "metadata": {
    "collapsed": true
   },
   "outputs": [],
   "source": []
  }
 ],
 "metadata": {
  "kernelspec": {
   "display_name": "Python 2",
   "language": "python",
   "name": "python2"
  },
  "language_info": {
   "codemirror_mode": {
    "name": "ipython",
    "version": 2
   },
   "file_extension": ".py",
   "mimetype": "text/x-python",
   "name": "python",
   "nbconvert_exporter": "python",
   "pygments_lexer": "ipython2",
   "version": "2.7.13"
  }
 },
 "nbformat": 4,
 "nbformat_minor": 2
}
