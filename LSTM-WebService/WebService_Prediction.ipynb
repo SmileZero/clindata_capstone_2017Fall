{
 "cells": [
  {
   "cell_type": "code",
   "execution_count": 1,
   "metadata": {
    "collapsed": true
   },
   "outputs": [],
   "source": [
    "import numpy as np\n",
    "import pandas as pd\n",
    "from keras.models import load_model\n",
    "import pickle"
   ]
  },
  {
   "cell_type": "code",
   "execution_count": 3,
   "metadata": {
    "collapsed": false
   },
   "outputs": [],
   "source": [
    "#Read patient info, given by vera\n",
    "f = open('testPatient.pkl','r')\n",
    "testPatient = pickle.load(f)\n",
    "f.close()"
   ]
  },
  {
   "cell_type": "code",
   "execution_count": 5,
   "metadata": {
    "collapsed": true
   },
   "outputs": [],
   "source": [
    "#Read model, saved after training, Change to file containing the final model\n",
    "model = load_model('Clindata_LSTM_Test.h5')"
   ]
  },
  {
   "cell_type": "code",
   "execution_count": 7,
   "metadata": {
    "collapsed": true
   },
   "outputs": [],
   "source": [
    "#Correct shape of test Patient\n",
    "def correctInputShape(data_x):\n",
    "    size = data_x.shape[0]\n",
    "    num_features = data_x[0].shape[1]\n",
    "    num_drugs = data_x[0].shape[0]\n",
    "    \n",
    "    x_shaped = np.empty((size, num_drugs, num_features))\n",
    "    \n",
    "    for i in range(size):\n",
    "        x_shaped[i] = np.nan_to_num(data_x[i].todense())\n",
    "    \n",
    "    return x_shaped\n",
    "\n",
    "testPatient = correctInputShape(testPatient)"
   ]
  },
  {
   "cell_type": "code",
   "execution_count": 35,
   "metadata": {
    "collapsed": false
   },
   "outputs": [],
   "source": [
    "#Predict probabilities\n",
    "predicted_proba = model.predict(testPatient)\n",
    "\n",
    "#Extract probabilities from the last drug\n",
    "last_pred = predicted_proba[len(predicted_proba)-1][0]"
   ]
  },
  {
   "cell_type": "code",
   "execution_count": 42,
   "metadata": {
    "collapsed": false
   },
   "outputs": [],
   "source": [
    "#Extract top 10 indices\n",
    "inds = np.argsort(-last_pred)[:10]"
   ]
  },
  {
   "cell_type": "code",
   "execution_count": 36,
   "metadata": {
    "collapsed": true
   },
   "outputs": [],
   "source": [
    "#Read reaction names (this file is on the Github/Data Cleaning folder)\n",
    "reactions = pd.read_csv('Top2000Reactions.csv')"
   ]
  },
  {
   "cell_type": "code",
   "execution_count": 43,
   "metadata": {
    "collapsed": false
   },
   "outputs": [],
   "source": [
    "#Extract top 10 reactions\n",
    "reacts = [reactions['Reaction'][i] for i in inds]\n",
    "\n",
    "#Extract top 10 probabilities\n",
    "probs = [last_pred[i] for i in inds]"
   ]
  },
  {
   "cell_type": "code",
   "execution_count": 44,
   "metadata": {
    "collapsed": false
   },
   "outputs": [
    {
     "data": {
      "text/html": [
       "<div>\n",
       "<table border=\"1\" class=\"dataframe\">\n",
       "  <thead>\n",
       "    <tr style=\"text-align: right;\">\n",
       "      <th></th>\n",
       "      <th>Reaction</th>\n",
       "      <th>Probability</th>\n",
       "    </tr>\n",
       "  </thead>\n",
       "  <tbody>\n",
       "    <tr>\n",
       "      <th>0</th>\n",
       "      <td>GASTRIC DISORDER</td>\n",
       "      <td>0.602004</td>\n",
       "    </tr>\n",
       "    <tr>\n",
       "      <th>1</th>\n",
       "      <td>DYSGEUSIA</td>\n",
       "      <td>0.595148</td>\n",
       "    </tr>\n",
       "    <tr>\n",
       "      <th>2</th>\n",
       "      <td>MULTIPLE SCLEROSIS RELAPSE</td>\n",
       "      <td>0.568862</td>\n",
       "    </tr>\n",
       "    <tr>\n",
       "      <th>3</th>\n",
       "      <td>HYPOGAMMAGLOBULINAEMIA</td>\n",
       "      <td>0.557208</td>\n",
       "    </tr>\n",
       "    <tr>\n",
       "      <th>4</th>\n",
       "      <td>CANDIDA INFECTION</td>\n",
       "      <td>0.556080</td>\n",
       "    </tr>\n",
       "    <tr>\n",
       "      <th>5</th>\n",
       "      <td>CATAPLEXY</td>\n",
       "      <td>0.552502</td>\n",
       "    </tr>\n",
       "    <tr>\n",
       "      <th>6</th>\n",
       "      <td>JUGULAR VEIN THROMBOSIS</td>\n",
       "      <td>0.546205</td>\n",
       "    </tr>\n",
       "    <tr>\n",
       "      <th>7</th>\n",
       "      <td>VISUAL FIELD DEFECT</td>\n",
       "      <td>0.546016</td>\n",
       "    </tr>\n",
       "    <tr>\n",
       "      <th>8</th>\n",
       "      <td>BALANCE DISORDER</td>\n",
       "      <td>0.541265</td>\n",
       "    </tr>\n",
       "    <tr>\n",
       "      <th>9</th>\n",
       "      <td>WEIGHT FLUCTUATION</td>\n",
       "      <td>0.541206</td>\n",
       "    </tr>\n",
       "  </tbody>\n",
       "</table>\n",
       "</div>"
      ],
      "text/plain": [
       "                     Reaction  Probability\n",
       "0            GASTRIC DISORDER     0.602004\n",
       "1                   DYSGEUSIA     0.595148\n",
       "2  MULTIPLE SCLEROSIS RELAPSE     0.568862\n",
       "3      HYPOGAMMAGLOBULINAEMIA     0.557208\n",
       "4           CANDIDA INFECTION     0.556080\n",
       "5                   CATAPLEXY     0.552502\n",
       "6     JUGULAR VEIN THROMBOSIS     0.546205\n",
       "7         VISUAL FIELD DEFECT     0.546016\n",
       "8            BALANCE DISORDER     0.541265\n",
       "9          WEIGHT FLUCTUATION     0.541206"
      ]
     },
     "execution_count": 44,
     "metadata": {},
     "output_type": "execute_result"
    }
   ],
   "source": [
    "#put everything together in a dataframe\n",
    "prediction_df = pd.DataFrame()\n",
    "prediction_df['Reaction'] = reacts\n",
    "prediction_df['Probability'] = probs\n",
    "prediction_df"
   ]
  },
  {
   "cell_type": "code",
   "execution_count": null,
   "metadata": {
    "collapsed": true
   },
   "outputs": [],
   "source": []
  }
 ],
 "metadata": {
  "anaconda-cloud": {},
  "kernelspec": {
   "display_name": "Python [conda root]",
   "language": "python",
   "name": "conda-root-py"
  },
  "language_info": {
   "codemirror_mode": {
    "name": "ipython",
    "version": 2
   },
   "file_extension": ".py",
   "mimetype": "text/x-python",
   "name": "python",
   "nbconvert_exporter": "python",
   "pygments_lexer": "ipython2",
   "version": "2.7.12"
  }
 },
 "nbformat": 4,
 "nbformat_minor": 1
}
